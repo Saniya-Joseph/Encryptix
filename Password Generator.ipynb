{
 "cells": [
  {
   "cell_type": "markdown",
   "id": "aa8d1cd8-82bb-4d00-ae1e-2913dc6b0132",
   "metadata": {},
   "source": [
    "## Password Generator"
   ]
  },
  {
   "cell_type": "code",
   "execution_count": 2,
   "id": "8e9958fe-0d39-43fb-b094-d265d151d8ff",
   "metadata": {},
   "outputs": [],
   "source": [
    "import random\n",
    "import string\n"
   ]
  },
  {
   "cell_type": "code",
   "execution_count": 4,
   "id": "f5de760e-8bd1-40ba-b610-fc2511130862",
   "metadata": {},
   "outputs": [],
   "source": [
    "def generate_password(length):\n",
    "    if length < 4:  # Ensure the password has at least 4 characters for complexity\n",
    "        return \"Password length should be at least 4 characters!\"\n",
    "    \n",
    "    # Character sets\n",
    "    lowercase = string.ascii_lowercase  # a-z\n",
    "    uppercase = string.ascii_uppercase  # A-Z\n",
    "    digits = string.digits              # 0-9\n",
    "    special_chars = string.punctuation  # Special characters (!, @, #, $, etc.)\n",
    "    \n",
    "    # Ensure the password includes at least one character from each category\n",
    "    password = [\n",
    "        random.choice(lowercase),\n",
    "        random.choice(uppercase),\n",
    "        random.choice(digits),\n",
    "        random.choice(special_chars)\n",
    "    ]\n",
    "    \n",
    "    # Fill the remaining characters with random selections from all categories\n",
    "    all_chars = lowercase + uppercase + digits + special_chars\n",
    "    password += random.choices(all_chars, k=length - 4)\n",
    "    \n",
    "    # Shuffle the characters for randomness and convert the list to a string\n",
    "    random.shuffle(password)\n",
    "    \n",
    "    return ''.join(password)\n"
   ]
  },
  {
   "cell_type": "code",
   "execution_count": null,
   "id": "e9da60d6-a54e-4fbf-9baa-ab24b91939f3",
   "metadata": {},
   "outputs": [],
   "source": [
    "try:\n",
    "    # Ask user for desired password length\n",
    "    password_length = int(input(\"Enter the desired length for your password: \"))\n",
    "    \n",
    "    # Generate the password\n",
    "    password = generate_password(password_length)\n",
    "    \n",
    "    # Display the password\n",
    "    print(f\"Generated Password: {password}\")\n",
    "except ValueError:\n",
    "    print(\"Please enter a valid number.\")\n"
   ]
  },
  {
   "cell_type": "code",
   "execution_count": null,
   "id": "94a68a47-872b-484a-8fa1-fa859b73ad12",
   "metadata": {},
   "outputs": [],
   "source": []
  }
 ],
 "metadata": {
  "kernelspec": {
   "display_name": "Python 3 (ipykernel)",
   "language": "python",
   "name": "python3"
  },
  "language_info": {
   "codemirror_mode": {
    "name": "ipython",
    "version": 3
   },
   "file_extension": ".py",
   "mimetype": "text/x-python",
   "name": "python",
   "nbconvert_exporter": "python",
   "pygments_lexer": "ipython3",
   "version": "3.12.4"
  }
 },
 "nbformat": 4,
 "nbformat_minor": 5
}
