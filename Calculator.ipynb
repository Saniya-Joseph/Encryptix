{
 "cells": [
  {
   "cell_type": "markdown",
   "id": "3e9d302c-ec4f-4362-ada8-fbcb692353de",
   "metadata": {},
   "source": [
    "## Calculator"
   ]
  },
  {
   "cell_type": "code",
   "execution_count": 4,
   "id": "7486cb99-5f3d-49ac-9f63-f9ce22702c05",
   "metadata": {},
   "outputs": [],
   "source": [
    "def add(x, y):\n",
    "    return x + y\n",
    "\n",
    "def subtract(x, y):\n",
    "    return x - y\n",
    "\n",
    "def multiply(x, y):\n",
    "    return x * y\n",
    "\n",
    "def divide(x, y):\n",
    "    if y == 0:\n",
    "        return \"Error: Division by zero!\"\n",
    "    return x / y\n"
   ]
  },
  {
   "cell_type": "code",
   "execution_count": 6,
   "id": "1ced1605-be21-452c-b167-d6b5604b4ec5",
   "metadata": {},
   "outputs": [],
   "source": [
    "def calculator():\n",
    "    print(\"Simple Calculator\")\n",
    "    print(\"Select operation:\")\n",
    "    print(\"1. Addition\")\n",
    "    print(\"2. Subtraction\")\n",
    "    print(\"3. Multiplication\")\n",
    "    print(\"4. Division\")\n",
    "    \n",
    "    # Take user input\n",
    "    operation = input(\"Enter choice (1/2/3/4): \")\n",
    "    \n",
    "    try:\n",
    "        num1 = float(input(\"Enter the first number: \"))\n",
    "        num2 = float(input(\"Enter the second number: \"))\n",
    "    except ValueError:\n",
    "        return \"Invalid input! Please enter valid numbers.\"\n",
    "    \n",
    "    # Perform the corresponding operation\n",
    "    if operation == \"1\":\n",
    "        result = add(num1, num2)\n",
    "        operation_name = \"Addition\"\n",
    "    elif operation == \"2\":\n",
    "        result = subtract(num1, num2)\n",
    "        operation_name = \"Subtraction\"\n",
    "    elif operation == \"3\":\n",
    "        result = multiply(num1, num2)\n",
    "        operation_name = \"Multiplication\"\n",
    "    elif operation == \"4\":\n",
    "        result = divide(num1, num2)\n",
    "        operation_name = \"Division\"\n",
    "    else:\n",
    "        return \"Invalid choice! Please select a valid operation.\"\n",
    "    \n",
    "    return f\"{operation_name} of {num1} and {num2} is: {result}\"\n"
   ]
  },
  {
   "cell_type": "code",
   "execution_count": 8,
   "id": "b57f1c0e-dc79-490c-95e0-3500383c69e2",
   "metadata": {},
   "outputs": [
    {
     "name": "stdout",
     "output_type": "stream",
     "text": [
      "Simple Calculator\n",
      "Select operation:\n",
      "1. Addition\n",
      "2. Subtraction\n",
      "3. Multiplication\n",
      "4. Division\n"
     ]
    },
    {
     "name": "stdin",
     "output_type": "stream",
     "text": [
      "Enter choice (1/2/3/4):  1\n",
      "Enter the first number:  5\n",
      "Enter the second number:  7\n"
     ]
    },
    {
     "name": "stdout",
     "output_type": "stream",
     "text": [
      "Addition of 5.0 and 7.0 is: 12.0\n"
     ]
    }
   ],
   "source": [
    "# Run the calculator\n",
    "print(calculator())\n"
   ]
  },
  {
   "cell_type": "code",
   "execution_count": null,
   "id": "669f30f2-031e-4112-891c-f05b8df88a21",
   "metadata": {},
   "outputs": [],
   "source": []
  }
 ],
 "metadata": {
  "kernelspec": {
   "display_name": "Python 3 (ipykernel)",
   "language": "python",
   "name": "python3"
  },
  "language_info": {
   "codemirror_mode": {
    "name": "ipython",
    "version": 3
   },
   "file_extension": ".py",
   "mimetype": "text/x-python",
   "name": "python",
   "nbconvert_exporter": "python",
   "pygments_lexer": "ipython3",
   "version": "3.12.4"
  }
 },
 "nbformat": 4,
 "nbformat_minor": 5
}
