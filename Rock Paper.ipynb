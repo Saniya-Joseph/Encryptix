{
 "cells": [
  {
   "cell_type": "markdown",
   "id": "f67d2505-1d79-47ff-86a0-be5962751750",
   "metadata": {},
   "source": [
    "## Rock paper scissor"
   ]
  },
  {
   "cell_type": "code",
   "execution_count": 2,
   "id": "85ad7af2-7f12-403f-b2fc-51fbbbe30ae8",
   "metadata": {},
   "outputs": [],
   "source": [
    "import random\n"
   ]
  },
  {
   "cell_type": "code",
   "execution_count": 10,
   "id": "b5b7fe84-63a2-442e-a38a-d636c8d04167",
   "metadata": {},
   "outputs": [],
   "source": [
    "\n",
    "\n"
   ]
  },
  {
   "cell_type": "code",
   "execution_count": 12,
   "id": "d3e457e2-738f-44e8-a0c4-656242282506",
   "metadata": {},
   "outputs": [],
   "source": [
    "\n"
   ]
  },
  {
   "cell_type": "code",
   "execution_count": 14,
   "id": "c81b3a89-a6e7-4cfd-a27f-0a0ce9a72012",
   "metadata": {},
   "outputs": [],
   "source": [
    "\n",
    "    \n",
    "    \n"
   ]
  },
  {
   "cell_type": "code",
   "execution_count": null,
   "id": "eea830c1-b40a-4b98-a9ea-0d91b916e40c",
   "metadata": {},
   "outputs": [],
   "source": []
  }
 ],
 "metadata": {
  "kernelspec": {
   "display_name": "Python 3 (ipykernel)",
   "language": "python",
   "name": "python3"
  },
  "language_info": {
   "codemirror_mode": {
    "name": "ipython",
    "version": 3
   },
   "file_extension": ".py",
   "mimetype": "text/x-python",
   "name": "python",
   "nbconvert_exporter": "python",
   "pygments_lexer": "ipython3",
   "version": "3.12.4"
  }
 },
 "nbformat": 4,
 "nbformat_minor": 5
}
