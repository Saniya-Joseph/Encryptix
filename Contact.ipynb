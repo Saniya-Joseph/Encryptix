{
 "cells": [
  {
   "cell_type": "code",
   "execution_count": 2,
   "id": "c06635eb-c287-4676-9648-e897a7711709",
   "metadata": {},
   "outputs": [],
   "source": [
    "# List to store contacts\n",
    "contacts = []\n"
   ]
  },
  {
   "cell_type": "code",
   "execution_count": 4,
   "id": "fef94d7f-5211-46a1-81a0-58ba49867fe2",
   "metadata": {},
   "outputs": [],
   "source": [
    "def add_contact(name, phone, email, address):\n",
    "    contact = {\n",
    "        \"name\": name,\n",
    "        \"phone\": phone,\n",
    "        \"email\": email,\n",
    "        \"address\": address\n",
    "    }\n",
    "    contacts.append(contact)\n",
    "    print(f\"Contact '{name}' added successfully!\")\n"
   ]
  },
  {
   "cell_type": "code",
   "execution_count": 6,
   "id": "58d72034-3746-486f-9781-b62f7bbf3b73",
   "metadata": {},
   "outputs": [],
   "source": [
    "def view_contacts():\n",
    "    if not contacts:\n",
    "        print(\"No contacts found.\")\n",
    "    else:\n",
    "        print(\"Contact List:\")\n",
    "        for i, contact in enumerate(contacts):\n",
    "            print(f\"{i + 1}. Name: {contact['name']}, Phone: {contact['phone']}\")\n"
   ]
  },
  {
   "cell_type": "code",
   "execution_count": 8,
   "id": "f0294377-42f8-4b61-81e3-07df693aca5c",
   "metadata": {},
   "outputs": [],
   "source": [
    "def search_contact(query):\n",
    "    found_contacts = [contact for contact in contacts if query.lower() in contact['name'].lower() or query in contact['phone']]\n",
    "    if found_contacts:\n",
    "        print(\"Search Results:\")\n",
    "        for contact in found_contacts:\n",
    "            print(f\"Name: {contact['name']}, Phone: {contact['phone']}, Email: {contact['email']}, Address: {contact['address']}\")\n",
    "    else:\n",
    "        print(\"No contacts found.\")\n"
   ]
  },
  {
   "cell_type": "code",
   "execution_count": 10,
   "id": "e042f596-95fa-4173-96dc-6f294a36b3e2",
   "metadata": {},
   "outputs": [],
   "source": [
    "def update_contact(index, name=None, phone=None, email=None, address=None):\n",
    "    if 0 <= index < len(contacts):\n",
    "        if name:\n",
    "            contacts[index]['name'] = name\n",
    "        if phone:\n",
    "            contacts[index]['phone'] = phone\n",
    "        if email:\n",
    "            contacts[index]['email'] = email\n",
    "        if address:\n",
    "            contacts[index]['address'] = address\n",
    "        print(f\"Contact '{contacts[index]['name']}' updated successfully!\")\n",
    "    else:\n",
    "        print(\"Invalid contact index.\")\n"
   ]
  },
  {
   "cell_type": "code",
   "execution_count": 12,
   "id": "7dbac864-9d00-46e9-b140-c0f8d6ab607a",
   "metadata": {},
   "outputs": [],
   "source": [
    "def contact_book_interface():\n",
    "    while True:\n",
    "        print(\"\\nContact Book Menu:\")\n",
    "        print(\"1. Add Contact\")\n",
    "        print(\"2. View Contacts\")\n",
    "        print(\"3. Search Contact\")\n",
    "        print(\"4. Update Contact\")\n",
    "        print(\"5. Delete Contact\")\n",
    "        print(\"6. Exit\")\n",
    "        \n",
    "        choice = input(\"Enter your choice (1-6): \")\n",
    "        \n",
    "        if choice == \"1\":\n",
    "            name = input(\"Enter name: \")\n",
    "            phone = input(\"Enter phone number: \")\n",
    "            email = input(\"Enter email: \")\n",
    "            address = input(\"Enter address: \")\n",
    "            add_contact(name, phone, email, address)\n",
    "        \n",
    "        elif choice == \"2\":\n",
    "            view_contacts()\n",
    "        \n",
    "        elif choice == \"3\":\n",
    "            query = input(\"Enter name or phone number to search: \")\n",
    "            search_contact(query)\n",
    "        \n",
    "        elif choice == \"4\":\n",
    "            view_contacts()\n",
    "            index = int(input(\"Enter the index of the contact to update: \")) - 1\n",
    "            name = input(\"Enter new name (or press Enter to keep current): \")\n",
    "            phone = input(\"Enter new phone (or press Enter to keep current): \")\n",
    "            email = input(\"Enter new email (or press Enter to keep current): \")\n",
    "            address = input(\"Enter new address (or press Enter to keep current): \")\n",
    "            update_contact(index, name if name else None, phone if phone else None, email if email else None, address if address else None)\n",
    "        \n",
    "        elif choice == \"5\":\n",
    "            view_contacts()\n",
    "            index = int(input(\"Enter the index of the contact to delete: \")) - 1\n",
    "            delete_contact(index)\n",
    "        \n",
    "        elif choice == \"6\":\n",
    "            print(\"Exiting the contact book.\")\n",
    "            break\n",
    "        \n",
    "        else:\n",
    "            print(\"Invalid choice. Please try again.\")\n"
   ]
  },
  {
   "cell_type": "code",
   "execution_count": null,
   "id": "fcbe80d3-7e66-4aa3-bedc-2290b7fa54fa",
   "metadata": {},
   "outputs": [],
   "source": []
  }
 ],
 "metadata": {
  "kernelspec": {
   "display_name": "Python 3 (ipykernel)",
   "language": "python",
   "name": "python3"
  },
  "language_info": {
   "codemirror_mode": {
    "name": "ipython",
    "version": 3
   },
   "file_extension": ".py",
   "mimetype": "text/x-python",
   "name": "python",
   "nbconvert_exporter": "python",
   "pygments_lexer": "ipython3",
   "version": "3.12.4"
  }
 },
 "nbformat": 4,
 "nbformat_minor": 5
}
